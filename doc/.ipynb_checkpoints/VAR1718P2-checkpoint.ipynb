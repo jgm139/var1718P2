{
 "cells": [
  {
   "cell_type": "markdown",
   "metadata": {},
   "source": [
    "# Práctica 2 - Mapeado 3D de interiores\n",
    "\n",
    "_Robert Esclapez García y Julia García Martínez_\n",
    "\n",
    "\n",
    "\n",
    "### 1. Descripción de lo que se pretende hacer\n",
    "\n",
    "\n",
    "\n",
    "### 2. Descripción de cómo se ha realizado la práctica\n",
    "\n",
    "\n",
    "\n",
    "### 3. Implementación y código desarrollado\n",
    "\n",
    "\n",
    "\n",
    "### 4. Nube de puntos resultado del registro"
   ]
  }
 ],
 "metadata": {
  "kernelspec": {
   "display_name": "Python 3",
   "language": "python",
   "name": "python3"
  },
  "language_info": {
   "codemirror_mode": {
    "name": "ipython",
    "version": 3
   },
   "file_extension": ".py",
   "mimetype": "text/x-python",
   "name": "python",
   "nbconvert_exporter": "python",
   "pygments_lexer": "ipython3",
   "version": "3.6.4"
  }
 },
 "nbformat": 4,
 "nbformat_minor": 2
}
